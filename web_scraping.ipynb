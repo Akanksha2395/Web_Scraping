{
  "nbformat": 4,
  "nbformat_minor": 0,
  "metadata": {
    "colab": {
      "provenance": [],
      "authorship_tag": "ABX9TyM0wBKHmENZK2XVTPsjUO2W",
      "include_colab_link": true
    },
    "kernelspec": {
      "name": "python3",
      "display_name": "Python 3"
    },
    "language_info": {
      "name": "python"
    }
  },
  "cells": [
    {
      "cell_type": "markdown",
      "metadata": {
        "id": "view-in-github",
        "colab_type": "text"
      },
      "source": [
        "<a href=\"https://colab.research.google.com/github/Akanksha2395/Web_Scraping/blob/main/web_scraping.ipynb\" target=\"_parent\"><img src=\"https://colab.research.google.com/assets/colab-badge.svg\" alt=\"Open In Colab\"/></a>"
      ]
    },
    {
      "cell_type": "code",
      "execution_count": null,
      "metadata": {
        "id": "zyJWDpgPBBaJ"
      },
      "outputs": [],
      "source": [
        "@@ -0,0 +1,54 @@\n",
        "# import libraries\n",
        "\n",
        "from urllib.request import urlopen as uReq\n",
        "from bs4 import BeautifulSoup as Soup\n",
        "\n",
        "# website url\n",
        "my_url = 'https://www.tender247.com/keyword/Electric+Vehicle+Tenders#'\n",
        "\n",
        "uClient = uReq(my_url)\n",
        "page_html= uClient.read()\n",
        "uClient.close()\n",
        "page_soup = Soup(page_html, \"html.parser\")\n",
        "\n",
        "containers = page_soup.findAll(\"tbody\",{\"id\":\"tendercontent\"})\n",
        "\n",
        "# destination file \n",
        "filename= \"g:/......./EVTenders2.csv\" \n",
        "f = open(filename,\"w\")\n",
        "headers = \"TenderId, Description, Location, Cost, Date\\n\"\n",
        "f.write(headers)\n",
        "\n",
        "for container in containers:\n",
        "    for i in range(20):\n",
        "        tender_ID=container.findAll(\"td\",{\"class\":\"tenderindextd\"})\n",
        "        ID=tender_ID[i].text.split()\n",
        "        Tender_Desc=container.findAll(\"p\",{\"id\":\"pReqBrief\"})\n",
        "        Desc = Tender_Desc[i].text.strip()\n",
        "        location=container.findAll(\"td\",{\"class\":\"col-xs-6 col-sm-4 col-md-6 col-lg-7 tenderListingLocation\"})\n",
        "        place = location[i].text.strip()\n",
        "        price=container.findAll(\"td\",{\"class\":\"text04\"})\n",
        "        costprice= price[i].text.split()\n",
        "        if(len(costprice)>3):\n",
        "            pass\n",
        "        else:\n",
        "            costprice.append(\"not\")\n",
        "            costprice.append(\" Available\")\n",
        "        date=container.findAll(\"span\",{\"style\":\" color:#ff9600;\"})\n",
        "        Date=date[i].text\n",
        "\n",
        "        print(\"Tender Id\" + ID[4])\n",
        "        print(\"Description = \" + Desc)\n",
        "        print(\"Location \" + place)\n",
        "        print(\"Cost \" + costprice[0]+costprice[1]+costprice[2])\n",
        "        print(\"Date Published \" + Date)\n",
        "\n",
        "        f.write(ID[4].replace(\",\", \" \") + \",\" + Desc.replace(\",\", \" \") + \",\" + place.replace(\",\", \";\") + \",\" + costprice[0]+costprice[1]+costprice[2] + \",\" + Date + \"\\n\")\n",
        "\n",
        "\n",
        "\n",
        "\n",
        "f.close()"
      ]
    }
  ]
}